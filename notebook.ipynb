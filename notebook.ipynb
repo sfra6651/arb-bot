{
 "cells": [
  {
   "cell_type": "code",
   "execution_count": 132,
   "metadata": {},
   "outputs": [],
   "source": [
    "import json\n",
    "import numpy as np\n",
    "import pandas as pd\n",
    "import os\n",
    "import subprocess\n"
   ]
  },
  {
   "cell_type": "code",
   "execution_count": 133,
   "metadata": {},
   "outputs": [],
   "source": [
    "def find_best_odds(df):\n",
    "    # Identify all the columns for team1 and team2 odds\n",
    "    team1_cols = [col for col in df.columns if 'team1' in col]\n",
    "    team2_cols = [col for col in df.columns if 'team2' in col]\n",
    "    \n",
    "    # Function to find the maximum odds and their source, ignoring None values\n",
    "    def max_with_source(lst, source_lst):\n",
    "        max_value = None\n",
    "        max_source = None\n",
    "        for i, value in enumerate(lst):\n",
    "            if value is not None and (max_value is None or value > max_value):\n",
    "                max_value = value\n",
    "                max_source = source_lst[i]\n",
    "        return max_value, max_source\n",
    "\n",
    "    # Apply the function to each row to find the best odds for team1 and team2\n",
    "    df['best_team1_odds'], df['best_team1_source'] = zip(*df.apply(\n",
    "        lambda row: max_with_source([row[col] for col in team1_cols], team1_cols), axis=1))\n",
    "    df['best_team2_odds'], df['best_team2_source'] = zip(*df.apply(\n",
    "        lambda row: max_with_source([row[col] for col in team2_cols], team2_cols), axis=1))\n",
    "    \n",
    "    # Select only the relevant columns to display\n",
    "    cols_to_display = ['match', 'best_team1_odds', 'best_team1_source', 'best_team2_odds', 'best_team2_source']\n",
    "    return df[cols_to_display]\n",
    "\n",
    "def arbitrage(row):\n",
    "    implied_team1 = 1 / float(row['best_team1_odds'])\n",
    "    implied_team2 = 1 / float(row['best_team2_odds'])\n",
    "    if implied_team1 + implied_team2 < 1:\n",
    "        return 1\n",
    "    return 0\n",
    "\n",
    "def open_data(filename):\n",
    "    with open(filename, 'r') as file:\n",
    "        data = json.load(file)\n",
    "    return np.array(data)"
   ]
  },
  {
   "cell_type": "code",
   "execution_count": 134,
   "metadata": {},
   "outputs": [],
   "source": [
    "\n",
    "\n",
    "TAB_file = 'data/rugby_union/TAB.json'\n",
    "sportsbet_file = 'data/rugby_union/sportsbet.json'\n",
    "\n",
    "TAB_data = open_data(TAB_file)\n",
    "sportsbet_data = open_data(sportsbet_file)\n",
    "\n",
    "match_names = np.concatenate(([x['id'] for x in TAB_data], [x['id'] for x in sportsbet_data]))\n",
    "match_names = np.unique(match_names)\n",
    "\n",
    "df = pd.DataFrame({'match': match_names})\n",
    "\n",
    "TAB_team1_dict = {obj['id']: obj['odds'][0] for obj in TAB_data}\n",
    "TAB_team2_dict = {obj['id']: obj['odds'][2] for obj in TAB_data}\n",
    "sportsbet_team1_dict = {obj['id']: obj['odds'][0] for obj in sportsbet_data}\n",
    "sportsbet_team2_dict = {obj['id']: obj['odds'][2] for obj in sportsbet_data}\n",
    "\n",
    "\n",
    "TAB_team1 = [TAB_team1_dict.get(match) for match in match_names]\n",
    "TAB_team2 = [TAB_team2_dict.get(match) for match in match_names]\n",
    "sportsbet_team1 = [sportsbet_team1_dict.get(match) for match in match_names]\n",
    "sportsbet_team2 = [sportsbet_team2_dict.get(match) for match in match_names]\n",
    "\n",
    "df['TAB_team1'] = TAB_team1\n",
    "df['TAB_team2'] = TAB_team2\n",
    "df['sportsbet_team1'] = sportsbet_team1\n",
    "df['sportsbet_team2'] = sportsbet_team2\n",
    "\n"
   ]
  },
  {
   "cell_type": "code",
   "execution_count": 135,
   "metadata": {},
   "outputs": [
    {
     "data": {
      "text/html": [
       "<div>\n",
       "<style scoped>\n",
       "    .dataframe tbody tr th:only-of-type {\n",
       "        vertical-align: middle;\n",
       "    }\n",
       "\n",
       "    .dataframe tbody tr th {\n",
       "        vertical-align: top;\n",
       "    }\n",
       "\n",
       "    .dataframe thead th {\n",
       "        text-align: right;\n",
       "    }\n",
       "</style>\n",
       "<table border=\"1\" class=\"dataframe\">\n",
       "  <thead>\n",
       "    <tr style=\"text-align: right;\">\n",
       "      <th></th>\n",
       "      <th>match</th>\n",
       "      <th>best_team1_odds</th>\n",
       "      <th>best_team1_source</th>\n",
       "      <th>best_team2_odds</th>\n",
       "      <th>best_team2_source</th>\n",
       "      <th>arbitrage</th>\n",
       "    </tr>\n",
       "  </thead>\n",
       "  <tbody>\n",
       "    <tr>\n",
       "      <th>16</th>\n",
       "      <td>Hurricanes Reds</td>\n",
       "      <td>1.30</td>\n",
       "      <td>TAB_team1</td>\n",
       "      <td>4.40</td>\n",
       "      <td>sportsbet_team2</td>\n",
       "      <td>1</td>\n",
       "    </tr>\n",
       "  </tbody>\n",
       "</table>\n",
       "</div>"
      ],
      "text/plain": [
       "              match best_team1_odds best_team1_source best_team2_odds  \\\n",
       "16  Hurricanes Reds            1.30         TAB_team1            4.40   \n",
       "\n",
       "   best_team2_source  arbitrage  \n",
       "16   sportsbet_team2          1  "
      ]
     },
     "execution_count": 135,
     "metadata": {},
     "output_type": "execute_result"
    }
   ],
   "source": [
    "best_odds = find_best_odds(df).copy()\n",
    "best_odds['arbitrage'] = best_odds.apply(lambda row: arbitrage(row), axis=1)\n",
    "mask = best_odds['arbitrage'] == 1\n",
    "best_odds[mask]\n"
   ]
  },
  {
   "cell_type": "code",
   "execution_count": 139,
   "metadata": {},
   "outputs": [],
   "source": [
    "def run_js_scripts(file_paths):\n",
    "    processes = []\n",
    "    for path in file_paths:\n",
    "        # Form the command to execute 'node' with the file path\n",
    "        command = ['node', path]\n",
    "        \n",
    "        # Spawn a new process for each command\n",
    "        process = subprocess.Popen(command)\n",
    "        \n",
    "        # Append the process to the list of processes\n",
    "        processes.append(process)\n",
    "\n",
    "    # Wait for all processes to complete\n",
    "    for process in processes:\n",
    "        process.wait()\n",
    "    print(\"All processes have completed.\")\n",
    "    return 0\n",
    "\n",
    "\n",
    "def get_file_paths(directory_path):\n",
    "    file_paths = []\n",
    "\n",
    "    if not os.path.exists(directory_path):\n",
    "        return file_paths\n",
    "    \n",
    "    for root, dirs, files in os.walk(directory_path):\n",
    "        for file in files:\n",
    "            file_paths.append(os.path.join(root, file))\n",
    "    return file_paths\n",
    "\n",
    "def clean_path(path):\n",
    "    # List all items in the directory\n",
    "    for item in os.listdir(path):\n",
    "        item_path = os.path.join(path, item)\n",
    "        # Check if it's a file or directory\n",
    "        if os.path.isfile(item_path):\n",
    "            os.remove(item_path)  # Remove the file"
   ]
  },
  {
   "cell_type": "code",
   "execution_count": 143,
   "metadata": {},
   "outputs": [
    {
     "name": "stderr",
     "output_type": "stream",
     "text": [
      "/Users/shaun/Dev/web-scraper-nodejs/node_modules/puppeteer-core/lib/cjs/puppeteer/util/assert.js:18\n",
      "        throw new Error(message);\n",
      "              ^\n",
      "\n",
      "Error: No element found for selector: .tabTouchable_f14y21fs\n",
      "    at assert (/Users/shaun/Dev/web-scraper-nodejs/node_modules/puppeteer-core/lib/cjs/puppeteer/util/assert.js:18:15)\n",
      "    at CdpFrame.click (/Users/shaun/Dev/web-scraper-nodejs/node_modules/puppeteer-core/lib/cjs/puppeteer/api/Frame.js:672:40)\n",
      "    at process.processTicksAndRejections (node:internal/process/task_queues:95:5)\n",
      "    at async /Users/shaun/Dev/web-scraper-nodejs/scripts/rugby_union/TAB.js:67:3\n",
      "\n",
      "Node.js v18.16.1\n"
     ]
    },
    {
     "name": "stdout",
     "output_type": "stream",
     "text": [
      "JSON file has been saved with the array of objects.\n",
      "All processes have completed.\n"
     ]
    },
    {
     "data": {
      "text/plain": [
       "0"
      ]
     },
     "execution_count": 143,
     "metadata": {},
     "output_type": "execute_result"
    }
   ],
   "source": [
    "\n",
    "paths = get_file_paths('scripts/rugby_union')\n",
    "clean_path('data/rugby_union')\n",
    "run_js_scripts(paths)\n"
   ]
  },
  {
   "cell_type": "code",
   "execution_count": null,
   "metadata": {},
   "outputs": [],
   "source": []
  }
 ],
 "metadata": {
  "kernelspec": {
   "display_name": ".venv",
   "language": "python",
   "name": "python3"
  },
  "language_info": {
   "codemirror_mode": {
    "name": "ipython",
    "version": 3
   },
   "file_extension": ".py",
   "mimetype": "text/x-python",
   "name": "python",
   "nbconvert_exporter": "python",
   "pygments_lexer": "ipython3",
   "version": "3.12.2"
  }
 },
 "nbformat": 4,
 "nbformat_minor": 2
}
