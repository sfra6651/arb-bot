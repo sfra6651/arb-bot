{
 "cells": [
  {
   "cell_type": "code",
   "execution_count": 37,
   "metadata": {},
   "outputs": [],
   "source": [
    "import json\n",
    "import os\n",
    "import numpy as np\n",
    "import pandas as pd\n",
    "\n",
    "def get_file_paths(directory_path):\n",
    "    file_paths = []\n",
    "\n",
    "    if not os.path.exists(directory_path):\n",
    "        return file_paths\n",
    "    \n",
    "    for root, dirs, files in os.walk(directory_path):\n",
    "        for file in files:\n",
    "            file_paths.append(os.path.join(root, file))\n",
    "    return file_paths\n",
    "\n",
    "import json\n",
    "import numpy as np\n",
    "import pandas as pd\n",
    "\n",
    "def open_data(filepath):\n",
    "    with open(filepath, 'r') as file:\n",
    "        data = json.load(file)\n",
    "    return data\n",
    "\n",
    "def find_best_odds(df):\n",
    "    team1_cols = [col for col in df.columns if 'team1' in col]\n",
    "    team2_cols = [col for col in df.columns if 'team2' in col]\n",
    "\n",
    "    def max_with_source(lst, source_lst):\n",
    "        max_value, max_source = None, None\n",
    "        for i, value in enumerate(lst):\n",
    "            if value is not None and (max_value is None or value > max_value):\n",
    "                max_value, max_source = value, source_lst[i]\n",
    "        return max_value, max_source\n",
    "\n",
    "    df['best_team1_odds'], df['best_team1_source'] = zip(*df.apply(\n",
    "        lambda row: max_with_source([row[col] for col in team1_cols], team1_cols), axis=1))\n",
    "    df['best_team2_odds'], df['best_team2_source'] = zip(*df.apply(\n",
    "        lambda row: max_with_source([row[col] for col in team2_cols], team2_cols), axis=1))\n",
    "\n",
    "    return df[['match', 'best_team1_odds', 'best_team1_source', 'best_team2_odds', 'best_team2_source']]\n",
    "\n",
    "def arbitrage(row):\n",
    "    implied_team1 = 1 / float(row['best_team1_odds'])\n",
    "    implied_team2 = 1 / float(row['best_team2_odds'])\n",
    "    total = implied_team1 + implied_team2\n",
    "    return round((1 - total)*100,2) if total < 1 else 0\n",
    "\n",
    "\n",
    "def get_names(data):\n",
    "    names = []\n",
    "    for d in data:\n",
    "        match_names = [x['id'] for x in d]\n",
    "        names.extend(match_names)\n",
    "    return np.unique(names)\n"
   ]
  },
  {
   "cell_type": "code",
   "execution_count": 40,
   "metadata": {},
   "outputs": [
    {
     "data": {
      "text/html": [
       "<div>\n",
       "<style scoped>\n",
       "    .dataframe tbody tr th:only-of-type {\n",
       "        vertical-align: middle;\n",
       "    }\n",
       "\n",
       "    .dataframe tbody tr th {\n",
       "        vertical-align: top;\n",
       "    }\n",
       "\n",
       "    .dataframe thead th {\n",
       "        text-align: right;\n",
       "    }\n",
       "</style>\n",
       "<table border=\"1\" class=\"dataframe\">\n",
       "  <thead>\n",
       "    <tr style=\"text-align: right;\">\n",
       "      <th></th>\n",
       "      <th>match</th>\n",
       "      <th>best_team1_odds</th>\n",
       "      <th>best_team1_source</th>\n",
       "      <th>best_team2_odds</th>\n",
       "      <th>best_team2_source</th>\n",
       "      <th>%_profit</th>\n",
       "    </tr>\n",
       "  </thead>\n",
       "  <tbody>\n",
       "    <tr>\n",
       "      <th>16</th>\n",
       "      <td>Hurricanes Reds</td>\n",
       "      <td>1.30</td>\n",
       "      <td>TAB_team1</td>\n",
       "      <td>4.40</td>\n",
       "      <td>sportsbet_team2</td>\n",
       "      <td>0.35</td>\n",
       "    </tr>\n",
       "  </tbody>\n",
       "</table>\n",
       "</div>"
      ],
      "text/plain": [
       "              match best_team1_odds best_team1_source best_team2_odds  \\\n",
       "16  Hurricanes Reds            1.30         TAB_team1            4.40   \n",
       "\n",
       "   best_team2_source  %_profit  \n",
       "16   sportsbet_team2      0.35  "
      ]
     },
     "execution_count": 40,
     "metadata": {},
     "output_type": "execute_result"
    }
   ],
   "source": [
    "\n",
    "bookie_names = []\n",
    "data = []\n",
    "filepaths = get_file_paths('data/rugby_union')\n",
    "\n",
    "for path in filepaths:\n",
    "    data.append(open_data(path))\n",
    "    bookie_names.append(path.split('/')[-1].split('.')[0])\n",
    "    \n",
    "match_names = get_names(data)\n",
    "\n",
    "df = pd.DataFrame({'match': match_names})\n",
    "\n",
    "for d, name in zip(data, bookie_names):\n",
    "    team1_dict = {x['id']: x['odds'][0] for x in d}\n",
    "    team2_dict = {x['id']: x['odds'][2] for x in d}\n",
    "\n",
    "    team1 = [team1_dict.get(match) for match in match_names]\n",
    "    team2 = [team2_dict.get(match) for match in match_names]\n",
    "\n",
    "    df[f'{name}_team1'] = team1\n",
    "    df[f'{name}_team2'] = team2 \n",
    "\n",
    "best_odds = find_best_odds(df).copy()\n",
    "best_odds['%_profit'] = best_odds.apply(lambda row: arbitrage(row), axis=1)\n",
    "mask = best_odds['%_profit'] != 0\n",
    "best_odds[mask]\n",
    "\n"
   ]
  },
  {
   "cell_type": "code",
   "execution_count": null,
   "metadata": {},
   "outputs": [],
   "source": [
    "def payout(s1, s2, odds):\n"
   ]
  },
  {
   "cell_type": "code",
   "execution_count": 125,
   "metadata": {},
   "outputs": [],
   "source": [
    "# implied_probs = [0.7692307692307692, 0.22727272727272727]\n",
    "# odds = [1.3, 4.4]\n",
    "\n",
    "#return bet sizes that are arbitrage oportunities and are whole number multiples of 5\n",
    "#this is to avoid possible account suspension\n",
    "#start at 5,5 then incement the value at the index of the smallest implied probability - Switch to incrementing the other\n",
    "# when the ration of this value to the total is greater than the implied prob of likely outcome\n",
    "def real_bets(implied_probs, odds):\n",
    "    # get the max idex of the max prob for the algo later on\n",
    "    if implied_probs[0] > implied_probs[1]:\n",
    "        max_index = 0\n",
    "        min_index = 1\n",
    "    else:\n",
    "        max_index = 1\n",
    "        min_index = 0\n",
    "\n",
    "    stakes = [5,5]\n",
    "    winning_stakes = []\n",
    "    opp = False\n",
    "    while(sum(stakes) < 150 ):\n",
    "        total = sum(stakes)\n",
    "        payout_max = stakes[max_index] * odds[min_index]\n",
    "        payout_min = stakes[min_index] * odds[max_index]\n",
    "\n",
    "        #Arbitrage case so add to winning_stakes\n",
    "        if payout_max >= total and payout_min >= total:\n",
    "            opp = True\n",
    "            winning_stakes.append(stakes.copy())\n",
    "\n",
    "        #core of the algorithm\n",
    "        if stakes[min_index] / total < implied_probs[max_index]:\n",
    "            stakes[min_index] += 5\n",
    "        else:\n",
    "            stakes[max_index] += 5\n",
    "    \n",
    "    #flip the inner arrays so they match up with odds order\n",
    "    for i, s in enumerate(winning_stakes):\n",
    "        winning_stakes[i] = s[::-1]\n",
    "\n",
    "    return winning_stakes\n"
   ]
  },
  {
   "cell_type": "code",
   "execution_count": 127,
   "metadata": {},
   "outputs": [
    {
     "data": {
      "text/plain": [
       "[[50, 15], [85, 25], [100, 30]]"
      ]
     },
     "execution_count": 127,
     "metadata": {},
     "output_type": "execute_result"
    }
   ],
   "source": [
    "real_bets([0.7692307692307692, 0.22727272727272727], [1.3, 4.4])"
   ]
  },
  {
   "cell_type": "code",
   "execution_count": null,
   "metadata": {},
   "outputs": [],
   "source": []
  },
  {
   "cell_type": "code",
   "execution_count": null,
   "metadata": {},
   "outputs": [],
   "source": []
  }
 ],
 "metadata": {
  "kernelspec": {
   "display_name": ".venv",
   "language": "python",
   "name": "python3"
  },
  "language_info": {
   "codemirror_mode": {
    "name": "ipython",
    "version": 3
   },
   "file_extension": ".py",
   "mimetype": "text/x-python",
   "name": "python",
   "nbconvert_exporter": "python",
   "pygments_lexer": "ipython3",
   "version": "3.12.2"
  }
 },
 "nbformat": 4,
 "nbformat_minor": 2
}
